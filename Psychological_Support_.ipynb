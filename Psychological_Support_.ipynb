{
  "cells": [
    {
      "cell_type": "code",
      "execution_count": 1,
      "metadata": {
        "colab": {
          "base_uri": "https://localhost:8080/"
        },
        "id": "QnToH0ZN6_UY",
        "outputId": "a3b8c11b-bbdd-412d-bebb-a8ffdedbdec7"
      },
      "outputs": [
        {
          "output_type": "stream",
          "name": "stderr",
          "text": [
            "[nltk_data] Downloading package vader_lexicon to /root/nltk_data...\n",
            "[nltk_data]   Package vader_lexicon is already up-to-date!\n"
          ]
        }
      ],
      "source": [
        "# Import required libraries\n",
        "import pandas as pd\n",
        "import numpy as np\n",
        "from sklearn.model_selection import train_test_split\n",
        "from sklearn.feature_extraction.text import TfidfVectorizer\n",
        "from sklearn.linear_model import LogisticRegression\n",
        "from sklearn.metrics import classification_report, confusion_matrix\n",
        "import seaborn as sns\n",
        "import matplotlib.pyplot as plt\n",
        "import nltk\n",
        "from nltk.sentiment.vader import SentimentIntensityAnalyzer\n",
        "\n",
        "# Load your dataset (replace with your file path or upload method)\n",
        "df = pd.read_csv('/content/Sentiment_Analysis_for_Mental_Health.csv')\n",
        "\n",
        "# Preprocess the data\n",
        "df = df.dropna(subset=['statement'])  # Remove rows with missing statements\n",
        "df['statement'] = df['statement'].str.lower()  # Convert text to lowercase\n",
        "\n",
        "# Assign sentiment labels using VADER\n",
        "nltk.download('vader_lexicon')\n",
        "sid = SentimentIntensityAnalyzer()\n",
        "\n",
        "def get_sentiment(score):\n",
        "    if score > 0.05:\n",
        "        return 'positive'\n",
        "    elif score < -0.05:\n",
        "        return 'negative'\n",
        "    else:\n",
        "        return 'neutral'\n",
        "\n",
        "df['sentiment'] = df['statement'].apply(lambda x: get_sentiment(sid.polarity_scores(x)['compound']))"
      ]
    },
    {
      "cell_type": "code",
      "execution_count": 2,
      "metadata": {
        "colab": {
          "base_uri": "https://localhost:8080/",
          "height": 695
        },
        "id": "xLJiHEPq7bAV",
        "outputId": "63a73d75-81c3-4fdd-b13a-166514004eb1"
      },
      "outputs": [
        {
          "output_type": "stream",
          "name": "stdout",
          "text": [
            "\n",
            "### Sentiment Distribution\n",
            "sentiment\n",
            "negative    28927\n",
            "positive    17226\n",
            "neutral      6528\n",
            "Name: count, dtype: int64\n"
          ]
        },
        {
          "output_type": "stream",
          "name": "stderr",
          "text": [
            "<ipython-input-2-b65624060e40>:8: FutureWarning: \n",
            "\n",
            "Passing `palette` without assigning `hue` is deprecated and will be removed in v0.14.0. Assign the `x` variable to `hue` and set `legend=False` for the same effect.\n",
            "\n",
            "  sns.barplot(x=sentiment_counts.index, y=sentiment_counts.values, palette='viridis')\n"
          ]
        },
        {
          "output_type": "display_data",
          "data": {
            "text/plain": [
              "<Figure size 800x500 with 1 Axes>"
            ],
            "image/png": "[encoded data removed]"
          },
          "metadata": {}
        }
      ],
      "source": [
        "# Calculate sentiment distribution\n",
        "print(\"\\n### Sentiment Distribution\")\n",
        "sentiment_counts = df['sentiment'].value_counts()\n",
        "print(sentiment_counts)\n",
        "\n",
        "# Visualize sentiment distribution\n",
        "plt.figure(figsize=(8, 5))\n",
        "sns.barplot(x=sentiment_counts.index, y=sentiment_counts.values, palette='viridis')\n",
        "plt.title('Sentiment Distribution in the Dataset')\n",
        "plt.xlabel('Sentiment')\n",
        "plt.ylabel('Count')\n",
        "plt.show()"
      ]
    },
    {
      "cell_type": "code",
      "execution_count": 3,
      "metadata": {
        "id": "C3Bmym7P7eDs"
      },
      "outputs": [],
      "source": [
        "# Split data into features (X) and labels (y)\n",
        "X = df['statement']\n",
        "y = df['sentiment']\n",
        "X_train, X_test, y_train, y_test = train_test_split(X, y, test_size=0.2, random_state=42)\n",
        "\n",
        "# Convert text to TF-IDF features\n",
        "vectorizer = TfidfVectorizer(max_features=1000)\n",
        "X_train_vec = vectorizer.fit_transform(X_train)\n",
        "X_test_vec = vectorizer.transform(X_test)\n",
        "\n",
        "# Train the model\n",
        "model = LogisticRegression(max_iter=1000)\n",
        "model.fit(X_train_vec, y_train)\n",
        "\n",
        "# Make predictions\n",
        "y_pred = model.predict(X_test_vec)"
      ]
    },
    {
      "cell_type": "code",
      "execution_count": 4,
      "metadata": {
        "colab": {
          "base_uri": "https://localhost:8080/"
        },
        "id": "eXbXXwpC7guc",
        "outputId": "8f499c5c-6e55-475c-8357-faa9a519fb8e"
      },
      "outputs": [
        {
          "output_type": "stream",
          "name": "stdout",
          "text": [
            "\n",
            "### Model Performance Evaluation\n",
            "\n",
            "#### Classification Report\n",
            "              precision    recall  f1-score   support\n",
            "\n",
            "    negative       0.84      0.87      0.85      5819\n",
            "     neutral       0.75      0.83      0.79      1326\n",
            "    positive       0.78      0.69      0.73      3392\n",
            "\n",
            "    accuracy                           0.81     10537\n",
            "   macro avg       0.79      0.80      0.79     10537\n",
            "weighted avg       0.81      0.81      0.81     10537\n",
            "\n"
          ]
        }
      ],
      "source": [
        "print(\"\\n### Model Performance Evaluation\")\n",
        "print(\"\\n#### Classification Report\")\n",
        "print(classification_report(y_test, y_pred))"
      ]
    },
    {
      "cell_type": "code",
      "execution_count": 5,
      "metadata": {
        "colab": {
          "base_uri": "https://localhost:8080/",
          "height": 599
        },
        "id": "2LMpvle37iEc",
        "outputId": "f27dfc1e-4d88-4cfe-f6bd-6aed74d7dad1"
      },
      "outputs": [
        {
          "output_type": "stream",
          "name": "stdout",
          "text": [
            "\n",
            "#### Confusion Matrix\n"
          ]
        },
        {
          "output_type": "display_data",
          "data": {
            "text/plain": [
              "<Figure size 800x600 with 2 Axes>"
            ],
            "image/png": "[encoded data removed]"
          },
          "metadata": {}
        }
      ],
      "source": [
        "print(\"\\n#### Confusion Matrix\")\n",
        "cm = confusion_matrix(y_test, y_pred, labels=['positive', 'neutral', 'negative'])\n",
        "plt.figure(figsize=(8, 6))\n",
        "sns.heatmap(cm, annot=True, fmt='d', cmap='Blues',\n",
        "            xticklabels=['Positive', 'Neutral', 'Negative'],\n",
        "            yticklabels=['Positive', 'Neutral', 'Negative'])\n",
        "plt.title('Confusion Matrix')\n",
        "plt.xlabel('Predicted')\n",
        "plt.ylabel('Actual')\n",
        "plt.show()"
      ]
    },
    {
      "cell_type": "code",
      "execution_count": 6,
      "metadata": {
        "colab": {
          "base_uri": "https://localhost:8080/"
        },
        "id": "lt4YEnHe754u",
        "outputId": "d362a3f7-02cc-4314-d292-567fff473f72"
      },
      "outputs": [
        {
          "output_type": "stream",
          "name": "stdout",
          "text": [
            "\n",
            "### Top Features for Each Sentiment Class\n",
            "\n",
            "#### Negative\n",
            " - suicide (coefficient: 4.3471)\n",
            " - kill (coefficient: 4.3894)\n",
            " - hate (coefficient: 4.4520)\n",
            " - bad (coefficient: 4.7940)\n",
            " - depression (coefficient: 5.9611)\n",
            "\n",
            "#### Neutral\n",
            " - takes (coefficient: 0.6171)\n",
            " - close (coefficient: 0.6638)\n",
            " - matter (coefficient: 0.7430)\n",
            " - passed (coefficient: 0.8880)\n",
            " - far (coefficient: 0.9196)\n",
            "\n",
            "#### Positive\n",
            " - happy (coefficient: 4.2478)\n",
            " - great (coefficient: 4.5480)\n",
            " - best (coefficient: 4.6767)\n",
            " - like (coefficient: 5.6105)\n",
            " - love (coefficient: 5.8749)\n"
          ]
        }
      ],
      "source": [
        "print(\"\\n### Top Features for Each Sentiment Class\")\n",
        "feature_names = vectorizer.get_feature_names_out()\n",
        "coefficients = model.coef_\n",
        "classes = model.classes_\n",
        "\n",
        "for i, sentiment in enumerate(classes):\n",
        "    top_features = np.argsort(coefficients[i])[-5:]  # Top 5 features\n",
        "    print(f\"\\n#### {sentiment.capitalize()}\")\n",
        "    for idx in top_features:\n",
        "        print(f\" - {feature_names[idx]} (coefficient: {coefficients[i][idx]:.4f})\")\n"
      ]
    },
    {
      "cell_type": "code",
      "execution_count": 7,
      "metadata": {
        "colab": {
          "base_uri": "https://localhost:8080/"
        },
        "id": "UMs6FcHt78VD",
        "outputId": "8ba5ddcf-465a-4a96-c6f1-5ed03cfff281"
      },
      "outputs": [
        {
          "output_type": "stream",
          "name": "stdout",
          "text": [
            "\n",
            "### Example Prediction\n",
            "Message: 'I'm feeling really stressed today.'\n",
            "Predicted Sentiment: negative\n",
            "Wellness Suggestion: It sounds like you’re going through a rough patch, and that’s completely okay—it happens to everyone. Try taking a few deep breaths, talking to a friend, or writing down your thoughts to process them. If this feeling lingers, consider reaching out to a mental health professional for extra support.\n"
          ]
        }
      ],
      "source": [
        "# Function to predict sentiment\n",
        "def predict_sentiment(message):\n",
        "    message = message.lower()\n",
        "    message_vec = vectorizer.transform([message])\n",
        "    return model.predict(message_vec)[0]\n",
        "\n",
        "# Function for detailed wellness suggestions\n",
        "def provide_detailed_suggestion(sentiment):\n",
        "    if sentiment == 'positive':\n",
        "        return (\n",
        "            \"Great to hear you're doing well! A positive mindset is fantastic for your mental health. \"\n",
        "            \"To keep this energy going, consider activities like taking a relaxing walk, reading an inspiring book, \"\n",
        "            \"or spending time with loved ones. These can reinforce your positivity and help you recharge.\"\n",
        "        )\n",
        "    elif sentiment == 'neutral':\n",
        "        return (\n",
        "            \"Things seem steady, which is a solid place to be. To add a bit of spark, try a short activity like a 10-minute walk, \"\n",
        "            \"listening to your favorite song, or doing something creative like drawing. Small steps like these can gently lift your mood.\"\n",
        "        )\n",
        "    elif sentiment == 'negative':\n",
        "        return (\n",
        "            \"It sounds like you’re going through a rough patch, and that’s completely okay—it happens to everyone. \"\n",
        "            \"Try taking a few deep breaths, talking to a friend, or writing down your thoughts to process them. \"\n",
        "            \"If this feeling lingers, consider reaching out to a mental health professional for extra support.\"\n",
        "        )\n",
        "    else:\n",
        "        return \"I’m not sure about that sentiment. How can I assist you further?\"\n",
        "\n",
        "# Test with an example\n",
        "new_message = \"I'm feeling really stressed today.\"\n",
        "predicted_sentiment = predict_sentiment(new_message)\n",
        "print(f\"\\n### Example Prediction\")\n",
        "print(f\"Message: '{new_message}'\")\n",
        "print(f\"Predicted Sentiment: {predicted_sentiment}\")\n",
        "print(f\"Wellness Suggestion: {provide_detailed_suggestion(predicted_sentiment)}\")"
      ]
    },
    {
      "cell_type": "code",
      "execution_count": 8,
      "metadata": {
        "colab": {
          "base_uri": "https://localhost:8080/"
        },
        "id": "skWiqyoF7-RN",
        "outputId": "d3c460ad-3bdc-44c1-d995-1d9e5a6df074"
      },
      "outputs": [
        {
          "output_type": "execute_result",
          "data": {
            "text/plain": [
              "['tfidf_vectorizer.joblib']"
            ]
          },
          "metadata": {},
          "execution_count": 8
        }
      ],
      "source": [
        "import joblib\n",
        "\n",
        "# Save the trained model and vectorizer\n",
        "joblib.dump(model, 'sentiment_model.joblib')\n",
        "joblib.dump(vectorizer, 'tfidf_vectorizer.joblib')"
      ]
    },
    {
      "cell_type": "code",
      "execution_count": 9,
      "metadata": {
        "colab": {
          "base_uri": "https://localhost:8080/"
        },
        "id": "19FdfvFe9F0t",
        "outputId": "37176e04-c6f0-4990-b91d-2f9cc091e569"
      },
      "outputs": [
        {
          "output_type": "stream",
          "name": "stdout",
          "text": [
            "Requirement already satisfied: fastapi in /usr/local/lib/python3.11/dist-packages (0.115.11)\n",
            "Requirement already satisfied: uvicorn in /usr/local/lib/python3.11/dist-packages (0.34.0)\n",
            "Requirement already satisfied: nest_asyncio in /usr/local/lib/python3.11/dist-packages (1.6.0)\n",
            "Requirement already satisfied: pyngrok in /usr/local/lib/python3.11/dist-packages (7.2.3)\n",
            "Requirement already satisfied: joblib in /usr/local/lib/python3.11/dist-packages (1.4.2)\n",
            "Requirement already satisfied: starlette<0.47.0,>=0.40.0 in /usr/local/lib/python3.11/dist-packages (from fastapi) (0.46.1)\n",
            "Requirement already satisfied: pydantic!=1.8,!=1.8.1,!=2.0.0,!=2.0.1,!=2.1.0,<3.0.0,>=1.7.4 in /usr/local/lib/python3.11/dist-packages (from fastapi) (2.10.6)\n",
            "Requirement already satisfied: typing-extensions>=4.8.0 in /usr/local/lib/python3.11/dist-packages (from fastapi) (4.12.2)\n",
            "Requirement already satisfied: click>=7.0 in /usr/local/lib/python3.11/dist-packages (from uvicorn) (8.1.8)\n",
            "Requirement already satisfied: h11>=0.8 in /usr/local/lib/python3.11/dist-packages (from uvicorn) (0.14.0)\n",
            "Requirement already satisfied: PyYAML>=5.1 in /usr/local/lib/python3.11/dist-packages (from pyngrok) (6.0.2)\n",
            "Requirement already satisfied: annotated-types>=0.6.0 in /usr/local/lib/python3.11/dist-packages (from pydantic!=1.8,!=1.8.1,!=2.0.0,!=2.0.1,!=2.1.0,<3.0.0,>=1.7.4->fastapi) (0.7.0)\n",
            "Requirement already satisfied: pydantic-core==2.27.2 in /usr/local/lib/python3.11/dist-packages (from pydantic!=1.8,!=1.8.1,!=2.0.0,!=2.0.1,!=2.1.0,<3.0.0,>=1.7.4->fastapi) (2.27.2)\n",
            "Requirement already satisfied: anyio<5,>=3.6.2 in /usr/local/lib/python3.11/dist-packages (from starlette<0.47.0,>=0.40.0->fastapi) (3.7.1)\n",
            "Requirement already satisfied: idna>=2.8 in /usr/local/lib/python3.11/dist-packages (from anyio<5,>=3.6.2->starlette<0.47.0,>=0.40.0->fastapi) (3.10)\n",
            "Requirement already satisfied: sniffio>=1.1 in /usr/local/lib/python3.11/dist-packages (from anyio<5,>=3.6.2->starlette<0.47.0,>=0.40.0->fastapi) (1.3.1)\n"
          ]
        }
      ],
      "source": [
        "!pip install fastapi uvicorn nest_asyncio pyngrok joblib"
      ]
    },
    {
      "cell_type": "code",
      "execution_count": 10,
      "metadata": {
        "id": "RhZ5PLWi9d_V",
        "colab": {
          "base_uri": "https://localhost:8080/"
        },
        "outputId": "1e8e5d53-10fd-4113-e3f5-1e6969c74144"
      },
      "outputs": [
        {
          "output_type": "stream",
          "name": "stdout",
          "text": [
            "Requirement already satisfied: fastapi in /usr/local/lib/python3.11/dist-packages (0.115.11)\n",
            "Requirement already satisfied: uvicorn in /usr/local/lib/python3.11/dist-packages (0.34.0)\n",
            "Requirement already satisfied: nest_asyncio in /usr/local/lib/python3.11/dist-packages (1.6.0)\n",
            "Requirement already satisfied: pyngrok in /usr/local/lib/python3.11/dist-packages (7.2.3)\n",
            "Requirement already satisfied: joblib in /usr/local/lib/python3.11/dist-packages (1.4.2)\n",
            "Requirement already satisfied: requests in /usr/local/lib/python3.11/dist-packages (2.32.3)\n",
            "Requirement already satisfied: starlette<0.47.0,>=0.40.0 in /usr/local/lib/python3.11/dist-packages (from fastapi) (0.46.1)\n",
            "Requirement already satisfied: pydantic!=1.8,!=1.8.1,!=2.0.0,!=2.0.1,!=2.1.0,<3.0.0,>=1.7.4 in /usr/local/lib/python3.11/dist-packages (from fastapi) (2.10.6)\n",
            "Requirement already satisfied: typing-extensions>=4.8.0 in /usr/local/lib/python3.11/dist-packages (from fastapi) (4.12.2)\n",
            "Requirement already satisfied: click>=7.0 in /usr/local/lib/python3.11/dist-packages (from uvicorn) (8.1.8)\n",
            "Requirement already satisfied: h11>=0.8 in /usr/local/lib/python3.11/dist-packages (from uvicorn) (0.14.0)\n",
            "Requirement already satisfied: PyYAML>=5.1 in /usr/local/lib/python3.11/dist-packages (from pyngrok) (6.0.2)\n",
            "Requirement already satisfied: charset-normalizer<4,>=2 in /usr/local/lib/python3.11/dist-packages (from requests) (3.4.1)\n",
            "Requirement already satisfied: idna<4,>=2.5 in /usr/local/lib/python3.11/dist-packages (from requests) (3.10)\n",
            "Requirement already satisfied: urllib3<3,>=1.21.1 in /usr/local/lib/python3.11/dist-packages (from requests) (2.3.0)\n",
            "Requirement already satisfied: certifi>=2017.4.17 in /usr/local/lib/python3.11/dist-packages (from requests) (2025.1.31)\n",
            "Requirement already satisfied: annotated-types>=0.6.0 in /usr/local/lib/python3.11/dist-packages (from pydantic!=1.8,!=1.8.1,!=2.0.0,!=2.0.1,!=2.1.0,<3.0.0,>=1.7.4->fastapi) (0.7.0)\n",
            "Requirement already satisfied: pydantic-core==2.27.2 in /usr/local/lib/python3.11/dist-packages (from pydantic!=1.8,!=1.8.1,!=2.0.0,!=2.0.1,!=2.1.0,<3.0.0,>=1.7.4->fastapi) (2.27.2)\n",
            "Requirement already satisfied: anyio<5,>=3.6.2 in /usr/local/lib/python3.11/dist-packages (from starlette<0.47.0,>=0.40.0->fastapi) (3.7.1)\n",
            "Requirement already satisfied: sniffio>=1.1 in /usr/local/lib/python3.11/dist-packages (from anyio<5,>=3.6.2->starlette<0.47.0,>=0.40.0->fastapi) (1.3.1)\n"
          ]
        }
      ],
      "source": [
        "pip install fastapi uvicorn nest_asyncio pyngrok joblib requests"
      ]
    },
    {
      "cell_type": "code",
      "source": [
        "from fastapi import FastAPI\n",
        "from pydantic import BaseModel\n",
        "import joblib\n",
        "import uvicorn\n",
        "import nest_asyncio\n",
        "import threading\n",
        "import time\n",
        "import socket\n",
        "import requests\n",
        "from pyngrok import ngrok\n",
        "\n",
        "# Apply nest_asyncio to allow Uvicorn in Colab's event loop (if running in Colab)\n",
        "nest_asyncio.apply()\n",
        "\n",
        "# Initialize FastAPI app\n",
        "app = FastAPI()\n",
        "\n",
        "# Load the saved model and vectorizer\n",
        "model = joblib.load('sentiment_model.joblib')\n",
        "vectorizer = joblib.load('tfidf_vectorizer.joblib')\n",
        "\n",
        "# Define the input data model\n",
        "class Message(BaseModel):\n",
        "    text: str\n",
        "\n",
        "# Define the prediction endpoint\n",
        "@app.post(\"/predict\")\n",
        "def predict_sentiment(message: Message):\n",
        "    text = message.text.lower()\n",
        "    text_vec = vectorizer.transform([text])\n",
        "    prediction = model.predict(text_vec)[0]\n",
        "    suggestion = provide_detailed_suggestion(prediction)\n",
        "    return {\"sentiment\": prediction, \"suggestion\": suggestion}\n",
        "\n",
        "# Function for wellness suggestions (copied from your notebook)\n",
        "def provide_detailed_suggestion(sentiment):\n",
        "    if sentiment == 'positive':\n",
        "        return (\n",
        "            \"Great to hear you're doing well! A positive mindset is fantastic for your mental health. \"\n",
        "            \"To keep this energy going, consider activities like taking a relaxing walk, reading an inspiring book, \"\n",
        "            \"or spending time with loved ones. These can reinforce your positivity and help you recharge.\"\n",
        "        )\n",
        "    elif sentiment == 'neutral':\n",
        "        return (\n",
        "            \"Things seem steady, which is a solid place to be. To add a bit of spark, try a short activity like a 10-minute walk, \"\n",
        "            \"listening to your favorite song, or doing something creative like drawing. Small steps like these can gently lift your mood.\"\n",
        "        )\n",
        "    elif sentiment == 'negative':\n",
        "        return (\n",
        "            \"It sounds like you’re going through a rough patch, and that’s completely okay—it happens to everyone. \"\n",
        "            \"Try taking a few deep breaths, talking to a friend, or writing down your thoughts to process them. \"\n",
        "            \"If this feeling lingers, consider reaching out to a mental health professional for extra support.\"\n",
        "        )\n",
        "    else:\n",
        "        return \"I’m not sure about that sentiment. How can I assist you further?\"\n",
        "\n",
        "# Define the server function\n",
        "def run_server():\n",
        "    uvicorn.run(app, host=\"0.0.0.0\", port=8000)\n",
        "\n",
        "# Function to check if a port is in use\n",
        "def is_port_in_use(port):\n",
        "    with socket.socket(socket.AF_INET, socket.SOCK_STREAM) as s:\n",
        "        return s.connect_ex(('localhost', port)) == 0\n",
        "\n",
        "# Start the server and expose it with ngrok\n",
        "if not is_port_in_use(8000):\n",
        "    # Start the server in a background thread\n",
        "    thread = threading.Thread(target=run_server)\n",
        "    thread.start()\n",
        "    time.sleep(2)  # Wait for the server to start\n",
        "    print(\"Server started in the background.\")\n",
        "\n",
        "    # Set up ngrok tunnel\n",
        "    ngrok.set_auth_token(\"2u5N9SW1LKvS0qd1g7z5NwZdGA8_7q3NxbzCcETndREdJQyre\")  # Replace with your ngrok auth token\n",
        "    public_url = ngrok.connect(8000)\n",
        "    print(f\"Public URL: {public_url.public_url}\")\n",
        "\n",
        "    # Test the public URL\n",
        "    response = requests.post(f\"{public_url.public_url}/predict\", json={\"text\": \"I'm feeling really stressed today.\"})\n",
        "    print(response.json())\n",
        "else:\n",
        "    print(\"Server already running on port 8000.\")"
      ],
      "metadata": {
        "colab": {
          "base_uri": "https://localhost:8080/"
        },
        "id": "NJlJuSwK2lpU",
        "outputId": "4ec48bde-1ada-4730-fdac-045ca3b94943"
      },
      "execution_count": 11,
      "outputs": [
        {
          "output_type": "stream",
          "name": "stderr",
          "text": [
            "INFO:     Started server process [23975]\n",
            "INFO:     Waiting for application startup.\n",
            "INFO:     Application startup complete.\n",
            "INFO:     Uvicorn running on http://0.0.0.0:8000 (Press CTRL+C to quit)\n",
            "WARNING:pyngrok.process.ngrok:t=2025-03-09T17:03:52+0000 lvl=warn msg=\"can't bind default web address, trying alternatives\" obj=web addr=127.0.0.1:4040\n"
          ]
        },
        {
          "output_type": "stream",
          "name": "stdout",
          "text": [
            "Server started in the background.\n",
            "Public URL: https://663d-34-106-198-63.ngrok-free.app\n",
            "INFO:     34.106.198.63:0 - \"POST /predict HTTP/1.1\" 200 OK\n",
            "{'sentiment': 'negative', 'suggestion': 'It sounds like you’re going through a rough patch, and that’s completely okay—it happens to everyone. Try taking a few deep breaths, talking to a friend, or writing down your thoughts to process them. If this feeling lingers, consider reaching out to a mental health professional for extra support.'}\n"
          ]
        }
      ]
    },
    {
      "cell_type": "code",
      "source": [],
      "metadata": {
        "id": "V2pEdI192o-P"
      },
      "execution_count": 11,
      "outputs": []
    }
  ],
  "metadata": {
    "colab": {
      "provenance": []
    },
    "kernelspec": {
      "display_name": "Python 3",
      "name": "python3"
    },
    "language_info": {
      "name": "python"
    }
  },
  "nbformat": 4,
  "nbformat_minor": 0
}