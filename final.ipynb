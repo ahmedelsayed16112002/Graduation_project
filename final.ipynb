{
  "cells": [
    {
      "cell_type": "code",
      "execution_count": 1,
      "metadata": {
        "colab": {
          "base_uri": "https://localhost:8080/"
        },
        "id": "eFbxysNpGUeN",
        "outputId": "2bfbde28-42f1-4d1d-d189-244eb0e3e96e"
      },
      "outputs": [
        {
          "output_type": "stream",
          "name": "stdout",
          "text": [
            "Collecting fastapi\n",
            "  Downloading fastapi-0.115.11-py3-none-any.whl.metadata (27 kB)\n",
            "Collecting uvicorn\n",
            "  Downloading uvicorn-0.34.0-py3-none-any.whl.metadata (6.5 kB)\n",
            "Requirement already satisfied: pandas in /usr/local/lib/python3.11/dist-packages (2.2.2)\n",
            "Requirement already satisfied: numpy in /usr/local/lib/python3.11/dist-packages (1.26.4)\n",
            "Requirement already satisfied: scikit-learn in /usr/local/lib/python3.11/dist-packages (1.6.1)\n",
            "Requirement already satisfied: joblib in /usr/local/lib/python3.11/dist-packages (1.4.2)\n",
            "Collecting kmodes\n",
            "  Downloading kmodes-0.12.2-py2.py3-none-any.whl.metadata (8.1 kB)\n",
            "Requirement already satisfied: pydantic in /usr/local/lib/python3.11/dist-packages (2.10.6)\n",
            "Requirement already satisfied: nest_asyncio in /usr/local/lib/python3.11/dist-packages (1.6.0)\n",
            "Requirement already satisfied: requests in /usr/local/lib/python3.11/dist-packages (2.32.3)\n",
            "Collecting starlette<0.47.0,>=0.40.0 (from fastapi)\n",
            "  Downloading starlette-0.46.1-py3-none-any.whl.metadata (6.2 kB)\n",
            "Requirement already satisfied: typing-extensions>=4.8.0 in /usr/local/lib/python3.11/dist-packages (from fastapi) (4.12.2)\n",
            "Requirement already satisfied: click>=7.0 in /usr/local/lib/python3.11/dist-packages (from uvicorn) (8.1.8)\n",
            "Requirement already satisfied: h11>=0.8 in /usr/local/lib/python3.11/dist-packages (from uvicorn) (0.14.0)\n",
            "Requirement already satisfied: python-dateutil>=2.8.2 in /usr/local/lib/python3.11/dist-packages (from pandas) (2.8.2)\n",
            "Requirement already satisfied: pytz>=2020.1 in /usr/local/lib/python3.11/dist-packages (from pandas) (2025.1)\n",
            "Requirement already satisfied: tzdata>=2022.7 in /usr/local/lib/python3.11/dist-packages (from pandas) (2025.1)\n",
            "Requirement already satisfied: scipy>=1.6.0 in /usr/local/lib/python3.11/dist-packages (from scikit-learn) (1.13.1)\n",
            "Requirement already satisfied: threadpoolctl>=3.1.0 in /usr/local/lib/python3.11/dist-packages (from scikit-learn) (3.5.0)\n",
            "Requirement already satisfied: annotated-types>=0.6.0 in /usr/local/lib/python3.11/dist-packages (from pydantic) (0.7.0)\n",
            "Requirement already satisfied: pydantic-core==2.27.2 in /usr/local/lib/python3.11/dist-packages (from pydantic) (2.27.2)\n",
            "Requirement already satisfied: charset-normalizer<4,>=2 in /usr/local/lib/python3.11/dist-packages (from requests) (3.4.1)\n",
            "Requirement already satisfied: idna<4,>=2.5 in /usr/local/lib/python3.11/dist-packages (from requests) (3.10)\n",
            "Requirement already satisfied: urllib3<3,>=1.21.1 in /usr/local/lib/python3.11/dist-packages (from requests) (2.3.0)\n",
            "Requirement already satisfied: certifi>=2017.4.17 in /usr/local/lib/python3.11/dist-packages (from requests) (2025.1.31)\n",
            "Requirement already satisfied: six>=1.5 in /usr/local/lib/python3.11/dist-packages (from python-dateutil>=2.8.2->pandas) (1.17.0)\n",
            "Requirement already satisfied: anyio<5,>=3.6.2 in /usr/local/lib/python3.11/dist-packages (from starlette<0.47.0,>=0.40.0->fastapi) (3.7.1)\n",
            "Requirement already satisfied: sniffio>=1.1 in /usr/local/lib/python3.11/dist-packages (from anyio<5,>=3.6.2->starlette<0.47.0,>=0.40.0->fastapi) (1.3.1)\n",
            "Downloading fastapi-0.115.11-py3-none-any.whl (94 kB)\n",
            "\u001b[2K   \u001b[90m━━━━━━━━━━━━━━━━━━━━━━━━━━━━━━━━━━━━━━━━\u001b[0m \u001b[32m94.9/94.9 kB\u001b[0m \u001b[31m3.7 MB/s\u001b[0m eta \u001b[36m0:00:00\u001b[0m\n",
            "\u001b[?25hDownloading uvicorn-0.34.0-py3-none-any.whl (62 kB)\n",
            "\u001b[2K   \u001b[90m━━━━━━━━━━━━━━━━━━━━━━━━━━━━━━━━━━━━━━━━\u001b[0m \u001b[32m62.3/62.3 kB\u001b[0m \u001b[31m3.6 MB/s\u001b[0m eta \u001b[36m0:00:00\u001b[0m\n",
            "\u001b[?25hDownloading kmodes-0.12.2-py2.py3-none-any.whl (20 kB)\n",
            "Downloading starlette-0.46.1-py3-none-any.whl (71 kB)\n",
            "\u001b[2K   \u001b[90m━━━━━━━━━━━━━━━━━━━━━━━━━━━━━━━━━━━━━━━━\u001b[0m \u001b[32m72.0/72.0 kB\u001b[0m \u001b[31m4.3 MB/s\u001b[0m eta \u001b[36m0:00:00\u001b[0m\n",
            "\u001b[?25hInstalling collected packages: uvicorn, starlette, kmodes, fastapi\n",
            "Successfully installed fastapi-0.115.11 kmodes-0.12.2 starlette-0.46.1 uvicorn-0.34.0\n"
          ]
        }
      ],
      "source": [
        "!pip install fastapi uvicorn pandas numpy scikit-learn joblib kmodes pydantic nest_asyncio requests"
      ]
    },
    {
      "cell_type": "markdown",
      "metadata": {
        "id": "JW-wtp1JIgzV"
      },
      "source": [
        "# importing libraries"
      ]
    },
    {
      "cell_type": "code",
      "execution_count": 2,
      "metadata": {
        "id": "khK3xfFYIfZP"
      },
      "outputs": [],
      "source": [
        "from sklearn.compose import ColumnTransformer\n",
        "from sklearn.pipeline import Pipeline\n",
        "from sklearn.preprocessing import StandardScaler, OneHotEncoder\n",
        "from sklearn.ensemble import RandomForestRegressor, RandomForestClassifier\n",
        "from kmodes.kprototypes import KPrototypes\n",
        "import joblib\n",
        "import json"
      ]
    },
    {
      "cell_type": "markdown",
      "metadata": {
        "id": "9EbabCZqInLP"
      },
      "source": [
        "# 2. Loading and Preprocessing the Data\n"
      ]
    },
    {
      "cell_type": "code",
      "execution_count": 3,
      "metadata": {
        "colab": {
          "base_uri": "https://localhost:8080/"
        },
        "id": "cc2DUTQ7IfV3",
        "outputId": "60f5784b-b2b5-4165-c0b1-dc4fb8a9df29"
      },
      "outputs": [
        {
          "output_type": "stream",
          "name": "stdout",
          "text": [
            "Mounted at /content/drive\n"
          ]
        }
      ],
      "source": [
        "from google.colab import drive\n",
        "import pandas as pd\n",
        "\n",
        "# Mount Google Drive\n",
        "drive.mount('/content/drive')\n",
        "\n",
        "file_path = \"/content/drive/My Drive/Graduation_project/data.csv\"\n",
        "\n",
        "# Load the data\n",
        "df = pd.read_csv(file_path)\n",
        "\n",
        "# Drop rows with missing values\n",
        "df = df.dropna()\n",
        "\n",
        "# Define feature columns\n",
        "numerical_cols = ['Hours_Studied', 'Attendance', 'Sleep_Hours', 'Previous_Scores', 'Tutoring_Sessions', 'Physical_Activity']\n",
        "categorical_cols = ['Parental_Involvement', 'Access_to_Resources', 'Extracurricular_Activities', 'Motivation_Level', 'Internet_Access', 'Family_Income', 'Teacher_Quality', 'School_Type', 'Peer_Influence', 'Learning_Disabilities', 'Parental_Education_Level', 'Distance_from_Home', 'Gender']\n",
        "controllable_numerical = ['Hours_Studied', 'Attendance', 'Sleep_Hours', 'Tutoring_Sessions', 'Physical_Activity']\n",
        "controllable_categorical = ['Extracurricular_Activities']\n",
        "\n",
        "# Create pass/fail target\n",
        "df['pass_fail'] = (df['Exam_Score'] >= 60).astype(int)"
      ]
    },
    {
      "cell_type": "markdown",
      "metadata": {
        "id": "qyx6slBcItJa"
      },
      "source": [
        "# 3. Preparing Features and Targets\n"
      ]
    },
    {
      "cell_type": "code",
      "execution_count": 4,
      "metadata": {
        "id": "evQlJtuuIfP7"
      },
      "outputs": [],
      "source": [
        "# Prepare features and targets\n",
        "X = df[numerical_cols + categorical_cols]\n",
        "y_regression = df['Exam_Score']\n",
        "y_classification = df['pass_fail']"
      ]
    },
    {
      "cell_type": "markdown",
      "metadata": {
        "id": "owPRzY5AIyBP"
      },
      "source": [
        "# 4. Preprocessing Pipeline\n"
      ]
    },
    {
      "cell_type": "code",
      "execution_count": 5,
      "metadata": {
        "id": "_LZxGTS9IfMy"
      },
      "outputs": [],
      "source": [
        "# Preprocessing for regression and classification\n",
        "preprocessor = ColumnTransformer(\n",
        "    transformers=[\n",
        "        ('num', StandardScaler(), numerical_cols),\n",
        "        ('cat', OneHotEncoder(handle_unknown='ignore'), categorical_cols)\n",
        "    ])"
      ]
    },
    {
      "cell_type": "markdown",
      "metadata": {
        "id": "T1gt-vnzI2sa"
      },
      "source": [
        "# 5. Building Regression and Classification Pipelines\n"
      ]
    },
    {
      "cell_type": "code",
      "execution_count": 6,
      "metadata": {
        "id": "JMKqUClFIfLB"
      },
      "outputs": [],
      "source": [
        "# Regression pipeline\n",
        "regression_pipeline = Pipeline([\n",
        "    ('preprocessor', preprocessor),\n",
        "    ('regressor', RandomForestRegressor(random_state=42))\n",
        "])\n",
        "\n",
        "# Classification pipeline\n",
        "classification_pipeline = Pipeline([\n",
        "    ('preprocessor', preprocessor),\n",
        "    ('classifier', RandomForestClassifier(random_state=42))\n",
        "])"
      ]
    },
    {
      "cell_type": "markdown",
      "metadata": {
        "id": "N8SGLoLNJBVa"
      },
      "source": [
        "# 6. Training the Models\n"
      ]
    },
    {
      "cell_type": "code",
      "execution_count": 7,
      "metadata": {
        "colab": {
          "base_uri": "https://localhost:8080/",
          "height": 249
        },
        "id": "1d4J6K6NJA3L",
        "outputId": "08464f67-90ca-4b15-eb24-b05d839c8f8b"
      },
      "outputs": [
        {
          "output_type": "execute_result",
          "data": {
            "text/plain": [
              "Pipeline(steps=[('preprocessor',\n",
              "                 ColumnTransformer(transformers=[('num', StandardScaler(),\n",
              "                                                  ['Hours_Studied',\n",
              "                                                   'Attendance', 'Sleep_Hours',\n",
              "                                                   'Previous_Scores',\n",
              "                                                   'Tutoring_Sessions',\n",
              "                                                   'Physical_Activity']),\n",
              "                                                 ('cat',\n",
              "                                                  OneHotEncoder(handle_unknown='ignore'),\n",
              "                                                  ['Parental_Involvement',\n",
              "                                                   'Access_to_Resources',\n",
              "                                                   'Extracurricular_Activities',\n",
              "                                                   'Motivation_Level',\n",
              "                                                   'Internet_Access',\n",
              "                                                   'Family_Income',\n",
              "                                                   'Teacher_Quality',\n",
              "                                                   'School_Type',\n",
              "                                                   'Peer_Influence',\n",
              "                                                   'Learning_Disabilities',\n",
              "                                                   'Parental_Education_Level',\n",
              "                                                   'Distance_from_Home',\n",
              "                                                   'Gender'])])),\n",
              "                ('classifier', RandomForestClassifier(random_state=42))])"
            ],
            "text/html": [
              "<style>#sk-container-id-1 {\n",
              "  /* Definition of color scheme common for light and dark mode */\n",
              "  --sklearn-color-text: #000;\n",
              "  --sklearn-color-text-muted: #666;\n",
              "  --sklearn-color-line: gray;\n",
              "  /* Definition of color scheme for unfitted estimators */\n",
              "  --sklearn-color-unfitted-level-0: #fff5e6;\n",
              "  --sklearn-color-unfitted-level-1: #f6e4d2;\n",
              "  --sklearn-color-unfitted-level-2: #ffe0b3;\n",
              "  --sklearn-color-unfitted-level-3: chocolate;\n",
              "  /* Definition of color scheme for fitted estimators */\n",
              "  --sklearn-color-fitted-level-0: #f0f8ff;\n",
              "  --sklearn-color-fitted-level-1: #d4ebff;\n",
              "  --sklearn-color-fitted-level-2: #b3dbfd;\n",
              "  --sklearn-color-fitted-level-3: cornflowerblue;\n",
              "\n",
              "  /* Specific color for light theme */\n",
              "  --sklearn-color-text-on-default-background: var(--sg-text-color, var(--theme-code-foreground, var(--jp-content-font-color1, black)));\n",
              "  --sklearn-color-background: var(--sg-background-color, var(--theme-background, var(--jp-layout-color0, white)));\n",
              "  --sklearn-color-border-box: var(--sg-text-color, var(--theme-code-foreground, var(--jp-content-font-color1, black)));\n",
              "  --sklearn-color-icon: #696969;\n",
              "\n",
              "  @media (prefers-color-scheme: dark) {\n",
              "    /* Redefinition of color scheme for dark theme */\n",
              "    --sklearn-color-text-on-default-background: var(--sg-text-color, var(--theme-code-foreground, var(--jp-content-font-color1, white)));\n",
              "    --sklearn-color-background: var(--sg-background-color, var(--theme-background, var(--jp-layout-color0, #111)));\n",
              "    --sklearn-color-border-box: var(--sg-text-color, var(--theme-code-foreground, var(--jp-content-font-color1, white)));\n",
              "    --sklearn-color-icon: #878787;\n",
              "  }\n",
              "}\n",
              "\n",
              "#sk-container-id-1 {\n",
              "  color: var(--sklearn-color-text);\n",
              "}\n",
              "\n",
              "#sk-container-id-1 pre {\n",
              "  padding: 0;\n",
              "}\n",
              "\n",
              "#sk-container-id-1 input.sk-hidden--visually {\n",
              "  border: 0;\n",
              "  clip: rect(1px 1px 1px 1px);\n",
              "  clip: rect(1px, 1px, 1px, 1px);\n",
              "  height: 1px;\n",
              "  margin: -1px;\n",
              "  overflow: hidden;\n",
              "  padding: 0;\n",
              "  position: absolute;\n",
              "  width: 1px;\n",
              "}\n",
              "\n",
              "#sk-container-id-1 div.sk-dashed-wrapped {\n",
              "  border: 1px dashed var(--sklearn-color-line);\n",
              "  margin: 0 0.4em 0.5em 0.4em;\n",
              "  box-sizing: border-box;\n",
              "  padding-bottom: 0.4em;\n",
              "  background-color: var(--sklearn-color-background);\n",
              "}\n",
              "\n",
              "#sk-container-id-1 div.sk-container {\n",
              "  /* jupyter's `normalize.less` sets `[hidden] { display: none; }`\n",
              "     but bootstrap.min.css set `[hidden] { display: none !important; }`\n",
              "     so we also need the `!important` here to be able to override the\n",
              "     default hidden behavior on the sphinx rendered scikit-learn.org.\n",
              "     See: https://github.com/scikit-learn/scikit-learn/issues/21755 */\n",
              "  display: inline-block !important;\n",
              "  position: relative;\n",
              "}\n",
              "\n",
              "#sk-container-id-1 div.sk-text-repr-fallback {\n",
              "  display: none;\n",
              "}\n",
              "\n",
              "div.sk-parallel-item,\n",
              "div.sk-serial,\n",
              "div.sk-item {\n",
              "  /* draw centered vertical line to link estimators */\n",
              "  background-image: linear-gradient(var(--sklearn-color-text-on-default-background), var(--sklearn-color-text-on-default-background));\n",
              "  background-size: 2px 100%;\n",
              "  background-repeat: no-repeat;\n",
              "  background-position: center center;\n",
              "}\n",
              "\n",
              "/* Parallel-specific style estimator block */\n",
              "\n",
              "#sk-container-id-1 div.sk-parallel-item::after {\n",
              "  content: \"\";\n",
              "  width: 100%;\n",
              "  border-bottom: 2px solid var(--sklearn-color-text-on-default-background);\n",
              "  flex-grow: 1;\n",
              "}\n",
              "\n",
              "#sk-container-id-1 div.sk-parallel {\n",
              "  display: flex;\n",
              "  align-items: stretch;\n",
              "  justify-content: center;\n",
              "  background-color: var(--sklearn-color-background);\n",
              "  position: relative;\n",
              "}\n",
              "\n",
              "#sk-container-id-1 div.sk-parallel-item {\n",
              "  display: flex;\n",
              "  flex-direction: column;\n",
              "}\n",
              "\n",
              "#sk-container-id-1 div.sk-parallel-item:first-child::after {\n",
              "  align-self: flex-end;\n",
              "  width: 50%;\n",
              "}\n",
              "\n",
              "#sk-container-id-1 div.sk-parallel-item:last-child::after {\n",
              "  align-self: flex-start;\n",
              "  width: 50%;\n",
              "}\n",
              "\n",
              "#sk-container-id-1 div.sk-parallel-item:only-child::after {\n",
              "  width: 0;\n",
              "}\n",
              "\n",
              "/* Serial-specific style estimator block */\n",
              "\n",
              "#sk-container-id-1 div.sk-serial {\n",
              "  display: flex;\n",
              "  flex-direction: column;\n",
              "  align-items: center;\n",
              "  background-color: var(--sklearn-color-background);\n",
              "  padding-right: 1em;\n",
              "  padding-left: 1em;\n",
              "}\n",
              "\n",
              "\n",
              "/* Toggleable style: style used for estimator/Pipeline/ColumnTransformer box that is\n",
              "clickable and can be expanded/collapsed.\n",
              "- Pipeline and ColumnTransformer use this feature and define the default style\n",
              "- Estimators will overwrite some part of the style using the `sk-estimator` class\n",
              "*/\n",
              "\n",
              "/* Pipeline and ColumnTransformer style (default) */\n",
              "\n",
              "#sk-container-id-1 div.sk-toggleable {\n",
              "  /* Default theme specific background. It is overwritten whether we have a\n",
              "  specific estimator or a Pipeline/ColumnTransformer */\n",
              "  background-color: var(--sklearn-color-background);\n",
              "}\n",
              "\n",
              "/* Toggleable label */\n",
              "#sk-container-id-1 label.sk-toggleable__label {\n",
              "  cursor: pointer;\n",
              "  display: flex;\n",
              "  width: 100%;\n",
              "  margin-bottom: 0;\n",
              "  padding: 0.5em;\n",
              "  box-sizing: border-box;\n",
              "  text-align: center;\n",
              "  align-items: start;\n",
              "  justify-content: space-between;\n",
              "  gap: 0.5em;\n",
              "}\n",
              "\n",
              "#sk-container-id-1 label.sk-toggleable__label .caption {\n",
              "  font-size: 0.6rem;\n",
              "  font-weight: lighter;\n",
              "  color: var(--sklearn-color-text-muted);\n",
              "}\n",
              "\n",
              "#sk-container-id-1 label.sk-toggleable__label-arrow:before {\n",
              "  /* Arrow on the left of the label */\n",
              "  content: \"▸\";\n",
              "  float: left;\n",
              "  margin-right: 0.25em;\n",
              "  color: var(--sklearn-color-icon);\n",
              "}\n",
              "\n",
              "#sk-container-id-1 label.sk-toggleable__label-arrow:hover:before {\n",
              "  color: var(--sklearn-color-text);\n",
              "}\n",
              "\n",
              "/* Toggleable content - dropdown */\n",
              "\n",
              "#sk-container-id-1 div.sk-toggleable__content {\n",
              "  max-height: 0;\n",
              "  max-width: 0;\n",
              "  overflow: hidden;\n",
              "  text-align: left;\n",
              "  /* unfitted */\n",
              "  background-color: var(--sklearn-color-unfitted-level-0);\n",
              "}\n",
              "\n",
              "#sk-container-id-1 div.sk-toggleable__content.fitted {\n",
              "  /* fitted */\n",
              "  background-color: var(--sklearn-color-fitted-level-0);\n",
              "}\n",
              "\n",
              "#sk-container-id-1 div.sk-toggleable__content pre {\n",
              "  margin: 0.2em;\n",
              "  border-radius: 0.25em;\n",
              "  color: var(--sklearn-color-text);\n",
              "  /* unfitted */\n",
              "  background-color: var(--sklearn-color-unfitted-level-0);\n",
              "}\n",
              "\n",
              "#sk-container-id-1 div.sk-toggleable__content.fitted pre {\n",
              "  /* unfitted */\n",
              "  background-color: var(--sklearn-color-fitted-level-0);\n",
              "}\n",
              "\n",
              "#sk-container-id-1 input.sk-toggleable__control:checked~div.sk-toggleable__content {\n",
              "  /* Expand drop-down */\n",
              "  max-height: 200px;\n",
              "  max-width: 100%;\n",
              "  overflow: auto;\n",
              "}\n",
              "\n",
              "#sk-container-id-1 input.sk-toggleable__control:checked~label.sk-toggleable__label-arrow:before {\n",
              "  content: \"▾\";\n",
              "}\n",
              "\n",
              "/* Pipeline/ColumnTransformer-specific style */\n",
              "\n",
              "#sk-container-id-1 div.sk-label input.sk-toggleable__control:checked~label.sk-toggleable__label {\n",
              "  color: var(--sklearn-color-text);\n",
              "  background-color: var(--sklearn-color-unfitted-level-2);\n",
              "}\n",
              "\n",
              "#sk-container-id-1 div.sk-label.fitted input.sk-toggleable__control:checked~label.sk-toggleable__label {\n",
              "  background-color: var(--sklearn-color-fitted-level-2);\n",
              "}\n",
              "\n",
              "/* Estimator-specific style */\n",
              "\n",
              "/* Colorize estimator box */\n",
              "#sk-container-id-1 div.sk-estimator input.sk-toggleable__control:checked~label.sk-toggleable__label {\n",
              "  /* unfitted */\n",
              "  background-color: var(--sklearn-color-unfitted-level-2);\n",
              "}\n",
              "\n",
              "#sk-container-id-1 div.sk-estimator.fitted input.sk-toggleable__control:checked~label.sk-toggleable__label {\n",
              "  /* fitted */\n",
              "  background-color: var(--sklearn-color-fitted-level-2);\n",
              "}\n",
              "\n",
              "#sk-container-id-1 div.sk-label label.sk-toggleable__label,\n",
              "#sk-container-id-1 div.sk-label label {\n",
              "  /* The background is the default theme color */\n",
              "  color: var(--sklearn-color-text-on-default-background);\n",
              "}\n",
              "\n",
              "/* On hover, darken the color of the background */\n",
              "#sk-container-id-1 div.sk-label:hover label.sk-toggleable__label {\n",
              "  color: var(--sklearn-color-text);\n",
              "  background-color: var(--sklearn-color-unfitted-level-2);\n",
              "}\n",
              "\n",
              "/* Label box, darken color on hover, fitted */\n",
              "#sk-container-id-1 div.sk-label.fitted:hover label.sk-toggleable__label.fitted {\n",
              "  color: var(--sklearn-color-text);\n",
              "  background-color: var(--sklearn-color-fitted-level-2);\n",
              "}\n",
              "\n",
              "/* Estimator label */\n",
              "\n",
              "#sk-container-id-1 div.sk-label label {\n",
              "  font-family: monospace;\n",
              "  font-weight: bold;\n",
              "  display: inline-block;\n",
              "  line-height: 1.2em;\n",
              "}\n",
              "\n",
              "#sk-container-id-1 div.sk-label-container {\n",
              "  text-align: center;\n",
              "}\n",
              "\n",
              "/* Estimator-specific */\n",
              "#sk-container-id-1 div.sk-estimator {\n",
              "  font-family: monospace;\n",
              "  border: 1px dotted var(--sklearn-color-border-box);\n",
              "  border-radius: 0.25em;\n",
              "  box-sizing: border-box;\n",
              "  margin-bottom: 0.5em;\n",
              "  /* unfitted */\n",
              "  background-color: var(--sklearn-color-unfitted-level-0);\n",
              "}\n",
              "\n",
              "#sk-container-id-1 div.sk-estimator.fitted {\n",
              "  /* fitted */\n",
              "  background-color: var(--sklearn-color-fitted-level-0);\n",
              "}\n",
              "\n",
              "/* on hover */\n",
              "#sk-container-id-1 div.sk-estimator:hover {\n",
              "  /* unfitted */\n",
              "  background-color: var(--sklearn-color-unfitted-level-2);\n",
              "}\n",
              "\n",
              "#sk-container-id-1 div.sk-estimator.fitted:hover {\n",
              "  /* fitted */\n",
              "  background-color: var(--sklearn-color-fitted-level-2);\n",
              "}\n",
              "\n",
              "/* Specification for estimator info (e.g. \"i\" and \"?\") */\n",
              "\n",
              "/* Common style for \"i\" and \"?\" */\n",
              "\n",
              ".sk-estimator-doc-link,\n",
              "a:link.sk-estimator-doc-link,\n",
              "a:visited.sk-estimator-doc-link {\n",
              "  float: right;\n",
              "  font-size: smaller;\n",
              "  line-height: 1em;\n",
              "  font-family: monospace;\n",
              "  background-color: var(--sklearn-color-background);\n",
              "  border-radius: 1em;\n",
              "  height: 1em;\n",
              "  width: 1em;\n",
              "  text-decoration: none !important;\n",
              "  margin-left: 0.5em;\n",
              "  text-align: center;\n",
              "  /* unfitted */\n",
              "  border: var(--sklearn-color-unfitted-level-1) 1pt solid;\n",
              "  color: var(--sklearn-color-unfitted-level-1);\n",
              "}\n",
              "\n",
              ".sk-estimator-doc-link.fitted,\n",
              "a:link.sk-estimator-doc-link.fitted,\n",
              "a:visited.sk-estimator-doc-link.fitted {\n",
              "  /* fitted */\n",
              "  border: var(--sklearn-color-fitted-level-1) 1pt solid;\n",
              "  color: var(--sklearn-color-fitted-level-1);\n",
              "}\n",
              "\n",
              "/* On hover */\n",
              "div.sk-estimator:hover .sk-estimator-doc-link:hover,\n",
              ".sk-estimator-doc-link:hover,\n",
              "div.sk-label-container:hover .sk-estimator-doc-link:hover,\n",
              ".sk-estimator-doc-link:hover {\n",
              "  /* unfitted */\n",
              "  background-color: var(--sklearn-color-unfitted-level-3);\n",
              "  color: var(--sklearn-color-background);\n",
              "  text-decoration: none;\n",
              "}\n",
              "\n",
              "div.sk-estimator.fitted:hover .sk-estimator-doc-link.fitted:hover,\n",
              ".sk-estimator-doc-link.fitted:hover,\n",
              "div.sk-label-container:hover .sk-estimator-doc-link.fitted:hover,\n",
              ".sk-estimator-doc-link.fitted:hover {\n",
              "  /* fitted */\n",
              "  background-color: var(--sklearn-color-fitted-level-3);\n",
              "  color: var(--sklearn-color-background);\n",
              "  text-decoration: none;\n",
              "}\n",
              "\n",
              "/* Span, style for the box shown on hovering the info icon */\n",
              ".sk-estimator-doc-link span {\n",
              "  display: none;\n",
              "  z-index: 9999;\n",
              "  position: relative;\n",
              "  font-weight: normal;\n",
              "  right: .2ex;\n",
              "  padding: .5ex;\n",
              "  margin: .5ex;\n",
              "  width: min-content;\n",
              "  min-width: 20ex;\n",
              "  max-width: 50ex;\n",
              "  color: var(--sklearn-color-text);\n",
              "  box-shadow: 2pt 2pt 4pt #999;\n",
              "  /* unfitted */\n",
              "  background: var(--sklearn-color-unfitted-level-0);\n",
              "  border: .5pt solid var(--sklearn-color-unfitted-level-3);\n",
              "}\n",
              "\n",
              ".sk-estimator-doc-link.fitted span {\n",
              "  /* fitted */\n",
              "  background: var(--sklearn-color-fitted-level-0);\n",
              "  border: var(--sklearn-color-fitted-level-3);\n",
              "}\n",
              "\n",
              ".sk-estimator-doc-link:hover span {\n",
              "  display: block;\n",
              "}\n",
              "\n",
              "/* \"?\"-specific style due to the `<a>` HTML tag */\n",
              "\n",
              "#sk-container-id-1 a.estimator_doc_link {\n",
              "  float: right;\n",
              "  font-size: 1rem;\n",
              "  line-height: 1em;\n",
              "  font-family: monospace;\n",
              "  background-color: var(--sklearn-color-background);\n",
              "  border-radius: 1rem;\n",
              "  height: 1rem;\n",
              "  width: 1rem;\n",
              "  text-decoration: none;\n",
              "  /* unfitted */\n",
              "  color: var(--sklearn-color-unfitted-level-1);\n",
              "  border: var(--sklearn-color-unfitted-level-1) 1pt solid;\n",
              "}\n",
              "\n",
              "#sk-container-id-1 a.estimator_doc_link.fitted {\n",
              "  /* fitted */\n",
              "  border: var(--sklearn-color-fitted-level-1) 1pt solid;\n",
              "  color: var(--sklearn-color-fitted-level-1);\n",
              "}\n",
              "\n",
              "/* On hover */\n",
              "#sk-container-id-1 a.estimator_doc_link:hover {\n",
              "  /* unfitted */\n",
              "  background-color: var(--sklearn-color-unfitted-level-3);\n",
              "  color: var(--sklearn-color-background);\n",
              "  text-decoration: none;\n",
              "}\n",
              "\n",
              "#sk-container-id-1 a.estimator_doc_link.fitted:hover {\n",
              "  /* fitted */\n",
              "  background-color: var(--sklearn-color-fitted-level-3);\n",
              "}\n",
              "</style><div id=\"sk-container-id-1\" class=\"sk-top-container\"><div class=\"sk-text-repr-fallback\"><pre>Pipeline(steps=[(&#x27;preprocessor&#x27;,\n",
              "                 ColumnTransformer(transformers=[(&#x27;num&#x27;, StandardScaler(),\n",
              "                                                  [&#x27;Hours_Studied&#x27;,\n",
              "                                                   &#x27;Attendance&#x27;, &#x27;Sleep_Hours&#x27;,\n",
              "                                                   &#x27;Previous_Scores&#x27;,\n",
              "                                                   &#x27;Tutoring_Sessions&#x27;,\n",
              "                                                   &#x27;Physical_Activity&#x27;]),\n",
              "                                                 (&#x27;cat&#x27;,\n",
              "                                                  OneHotEncoder(handle_unknown=&#x27;ignore&#x27;),\n",
              "                                                  [&#x27;Parental_Involvement&#x27;,\n",
              "                                                   &#x27;Access_to_Resources&#x27;,\n",
              "                                                   &#x27;Extracurricular_Activities&#x27;,\n",
              "                                                   &#x27;Motivation_Level&#x27;,\n",
              "                                                   &#x27;Internet_Access&#x27;,\n",
              "                                                   &#x27;Family_Income&#x27;,\n",
              "                                                   &#x27;Teacher_Quality&#x27;,\n",
              "                                                   &#x27;School_Type&#x27;,\n",
              "                                                   &#x27;Peer_Influence&#x27;,\n",
              "                                                   &#x27;Learning_Disabilities&#x27;,\n",
              "                                                   &#x27;Parental_Education_Level&#x27;,\n",
              "                                                   &#x27;Distance_from_Home&#x27;,\n",
              "                                                   &#x27;Gender&#x27;])])),\n",
              "                (&#x27;classifier&#x27;, RandomForestClassifier(random_state=42))])</pre><b>In a Jupyter environment, please rerun this cell to show the HTML representation or trust the notebook. <br />On GitHub, the HTML representation is unable to render, please try loading this page with nbviewer.org.</b></div><div class=\"sk-container\" hidden><div class=\"sk-item sk-dashed-wrapped\"><div class=\"sk-label-container\"><div class=\"sk-label fitted sk-toggleable\"><input class=\"sk-toggleable__control sk-hidden--visually\" id=\"sk-estimator-id-1\" type=\"checkbox\" ><label for=\"sk-estimator-id-1\" class=\"sk-toggleable__label fitted sk-toggleable__label-arrow\"><div><div>Pipeline</div></div><div><a class=\"sk-estimator-doc-link fitted\" rel=\"noreferrer\" target=\"_blank\" href=\"https://scikit-learn.org/1.6/modules/generated/sklearn.pipeline.Pipeline.html\">?<span>Documentation for Pipeline</span></a><span class=\"sk-estimator-doc-link fitted\">i<span>Fitted</span></span></div></label><div class=\"sk-toggleable__content fitted\"><pre>Pipeline(steps=[(&#x27;preprocessor&#x27;,\n",
              "                 ColumnTransformer(transformers=[(&#x27;num&#x27;, StandardScaler(),\n",
              "                                                  [&#x27;Hours_Studied&#x27;,\n",
              "                                                   &#x27;Attendance&#x27;, &#x27;Sleep_Hours&#x27;,\n",
              "                                                   &#x27;Previous_Scores&#x27;,\n",
              "                                                   &#x27;Tutoring_Sessions&#x27;,\n",
              "                                                   &#x27;Physical_Activity&#x27;]),\n",
              "                                                 (&#x27;cat&#x27;,\n",
              "                                                  OneHotEncoder(handle_unknown=&#x27;ignore&#x27;),\n",
              "                                                  [&#x27;Parental_Involvement&#x27;,\n",
              "                                                   &#x27;Access_to_Resources&#x27;,\n",
              "                                                   &#x27;Extracurricular_Activities&#x27;,\n",
              "                                                   &#x27;Motivation_Level&#x27;,\n",
              "                                                   &#x27;Internet_Access&#x27;,\n",
              "                                                   &#x27;Family_Income&#x27;,\n",
              "                                                   &#x27;Teacher_Quality&#x27;,\n",
              "                                                   &#x27;School_Type&#x27;,\n",
              "                                                   &#x27;Peer_Influence&#x27;,\n",
              "                                                   &#x27;Learning_Disabilities&#x27;,\n",
              "                                                   &#x27;Parental_Education_Level&#x27;,\n",
              "                                                   &#x27;Distance_from_Home&#x27;,\n",
              "                                                   &#x27;Gender&#x27;])])),\n",
              "                (&#x27;classifier&#x27;, RandomForestClassifier(random_state=42))])</pre></div> </div></div><div class=\"sk-serial\"><div class=\"sk-item sk-dashed-wrapped\"><div class=\"sk-label-container\"><div class=\"sk-label fitted sk-toggleable\"><input class=\"sk-toggleable__control sk-hidden--visually\" id=\"sk-estimator-id-2\" type=\"checkbox\" ><label for=\"sk-estimator-id-2\" class=\"sk-toggleable__label fitted sk-toggleable__label-arrow\"><div><div>preprocessor: ColumnTransformer</div></div><div><a class=\"sk-estimator-doc-link fitted\" rel=\"noreferrer\" target=\"_blank\" href=\"https://scikit-learn.org/1.6/modules/generated/sklearn.compose.ColumnTransformer.html\">?<span>Documentation for preprocessor: ColumnTransformer</span></a></div></label><div class=\"sk-toggleable__content fitted\"><pre>ColumnTransformer(transformers=[(&#x27;num&#x27;, StandardScaler(),\n",
              "                                 [&#x27;Hours_Studied&#x27;, &#x27;Attendance&#x27;, &#x27;Sleep_Hours&#x27;,\n",
              "                                  &#x27;Previous_Scores&#x27;, &#x27;Tutoring_Sessions&#x27;,\n",
              "                                  &#x27;Physical_Activity&#x27;]),\n",
              "                                (&#x27;cat&#x27;, OneHotEncoder(handle_unknown=&#x27;ignore&#x27;),\n",
              "                                 [&#x27;Parental_Involvement&#x27;, &#x27;Access_to_Resources&#x27;,\n",
              "                                  &#x27;Extracurricular_Activities&#x27;,\n",
              "                                  &#x27;Motivation_Level&#x27;, &#x27;Internet_Access&#x27;,\n",
              "                                  &#x27;Family_Income&#x27;, &#x27;Teacher_Quality&#x27;,\n",
              "                                  &#x27;School_Type&#x27;, &#x27;Peer_Influence&#x27;,\n",
              "                                  &#x27;Learning_Disabilities&#x27;,\n",
              "                                  &#x27;Parental_Education_Level&#x27;,\n",
              "                                  &#x27;Distance_from_Home&#x27;, &#x27;Gender&#x27;])])</pre></div> </div></div><div class=\"sk-parallel\"><div class=\"sk-parallel-item\"><div class=\"sk-item\"><div class=\"sk-label-container\"><div class=\"sk-label fitted sk-toggleable\"><input class=\"sk-toggleable__control sk-hidden--visually\" id=\"sk-estimator-id-3\" type=\"checkbox\" ><label for=\"sk-estimator-id-3\" class=\"sk-toggleable__label fitted sk-toggleable__label-arrow\"><div><div>num</div></div></label><div class=\"sk-toggleable__content fitted\"><pre>[&#x27;Hours_Studied&#x27;, &#x27;Attendance&#x27;, &#x27;Sleep_Hours&#x27;, &#x27;Previous_Scores&#x27;, &#x27;Tutoring_Sessions&#x27;, &#x27;Physical_Activity&#x27;]</pre></div> </div></div><div class=\"sk-serial\"><div class=\"sk-item\"><div class=\"sk-estimator fitted sk-toggleable\"><input class=\"sk-toggleable__control sk-hidden--visually\" id=\"sk-estimator-id-4\" type=\"checkbox\" ><label for=\"sk-estimator-id-4\" class=\"sk-toggleable__label fitted sk-toggleable__label-arrow\"><div><div>StandardScaler</div></div><div><a class=\"sk-estimator-doc-link fitted\" rel=\"noreferrer\" target=\"_blank\" href=\"https://scikit-learn.org/1.6/modules/generated/sklearn.preprocessing.StandardScaler.html\">?<span>Documentation for StandardScaler</span></a></div></label><div class=\"sk-toggleable__content fitted\"><pre>StandardScaler()</pre></div> </div></div></div></div></div><div class=\"sk-parallel-item\"><div class=\"sk-item\"><div class=\"sk-label-container\"><div class=\"sk-label fitted sk-toggleable\"><input class=\"sk-toggleable__control sk-hidden--visually\" id=\"sk-estimator-id-5\" type=\"checkbox\" ><label for=\"sk-estimator-id-5\" class=\"sk-toggleable__label fitted sk-toggleable__label-arrow\"><div><div>cat</div></div></label><div class=\"sk-toggleable__content fitted\"><pre>[&#x27;Parental_Involvement&#x27;, &#x27;Access_to_Resources&#x27;, &#x27;Extracurricular_Activities&#x27;, &#x27;Motivation_Level&#x27;, &#x27;Internet_Access&#x27;, &#x27;Family_Income&#x27;, &#x27;Teacher_Quality&#x27;, &#x27;School_Type&#x27;, &#x27;Peer_Influence&#x27;, &#x27;Learning_Disabilities&#x27;, &#x27;Parental_Education_Level&#x27;, &#x27;Distance_from_Home&#x27;, &#x27;Gender&#x27;]</pre></div> </div></div><div class=\"sk-serial\"><div class=\"sk-item\"><div class=\"sk-estimator fitted sk-toggleable\"><input class=\"sk-toggleable__control sk-hidden--visually\" id=\"sk-estimator-id-6\" type=\"checkbox\" ><label for=\"sk-estimator-id-6\" class=\"sk-toggleable__label fitted sk-toggleable__label-arrow\"><div><div>OneHotEncoder</div></div><div><a class=\"sk-estimator-doc-link fitted\" rel=\"noreferrer\" target=\"_blank\" href=\"https://scikit-learn.org/1.6/modules/generated/sklearn.preprocessing.OneHotEncoder.html\">?<span>Documentation for OneHotEncoder</span></a></div></label><div class=\"sk-toggleable__content fitted\"><pre>OneHotEncoder(handle_unknown=&#x27;ignore&#x27;)</pre></div> </div></div></div></div></div></div></div><div class=\"sk-item\"><div class=\"sk-estimator fitted sk-toggleable\"><input class=\"sk-toggleable__control sk-hidden--visually\" id=\"sk-estimator-id-7\" type=\"checkbox\" ><label for=\"sk-estimator-id-7\" class=\"sk-toggleable__label fitted sk-toggleable__label-arrow\"><div><div>RandomForestClassifier</div></div><div><a class=\"sk-estimator-doc-link fitted\" rel=\"noreferrer\" target=\"_blank\" href=\"https://scikit-learn.org/1.6/modules/generated/sklearn.ensemble.RandomForestClassifier.html\">?<span>Documentation for RandomForestClassifier</span></a></div></label><div class=\"sk-toggleable__content fitted\"><pre>RandomForestClassifier(random_state=42)</pre></div> </div></div></div></div></div></div>"
            ]
          },
          "metadata": {},
          "execution_count": 7
        }
      ],
      "source": [
        "# Train models\n",
        "regression_pipeline.fit(X, y_regression)\n",
        "classification_pipeline.fit(X, y_classification)"
      ]
    },
    {
      "cell_type": "markdown",
      "metadata": {
        "id": "avB0NWP7JJKg"
      },
      "source": [
        "# 7. Saving the Pipelines\n"
      ]
    },
    {
      "cell_type": "code",
      "execution_count": 8,
      "metadata": {
        "colab": {
          "base_uri": "https://localhost:8080/"
        },
        "id": "YAUOkkxdJI4D",
        "outputId": "5086fc4f-25bb-418b-cbe3-65a369dd6f7f"
      },
      "outputs": [
        {
          "output_type": "execute_result",
          "data": {
            "text/plain": [
              "['classification_pipeline.joblib']"
            ]
          },
          "metadata": {},
          "execution_count": 8
        }
      ],
      "source": [
        "# Save pipelines\n",
        "joblib.dump(regression_pipeline, 'regression_pipeline.joblib')\n",
        "joblib.dump(classification_pipeline, 'classification_pipeline.joblib')"
      ]
    },
    {
      "cell_type": "markdown",
      "metadata": {
        "id": "ibnDYoMEJPlh"
      },
      "source": [
        "# 8. Clustering with K-Prototypes\n"
      ]
    },
    {
      "cell_type": "code",
      "execution_count": 9,
      "metadata": {
        "id": "BrCChDZ0JAzj"
      },
      "outputs": [],
      "source": [
        "# Clustering: Scale numerical features\n",
        "scaler = StandardScaler()\n",
        "X_scaled = X.copy()\n",
        "X_scaled[numerical_cols] = scaler.fit_transform(X[numerical_cols])\n",
        "\n",
        "# Define categorical indices\n",
        "categorical_indices = [X.columns.get_loc(col) for col in categorical_cols]\n",
        "\n",
        "# Train K-Prototypes (3 clusters)\n",
        "kp = KPrototypes(n_clusters=3, init='Huang', random_state=42)\n",
        "clusters = kp.fit_predict(X_scaled, categorical=categorical_indices)\n",
        "\n",
        "# Assign clusters to dataframe\n",
        "df['cluster'] = clusters"
      ]
    },
    {
      "cell_type": "markdown",
      "metadata": {
        "id": "asJu0KotJUtn"
      },
      "source": [
        "# 9. Generating Recommendations\n"
      ]
    },
    {
      "cell_type": "code",
      "execution_count": 10,
      "metadata": {
        "id": "RuPMAOPAJAws"
      },
      "outputs": [],
      "source": [
        "# Extract feature importances from the regression pipeline\n",
        "feature_importances = regression_pipeline.named_steps['regressor'].feature_importances_\n",
        "feature_names = regression_pipeline.named_steps['preprocessor'].get_feature_names_out()\n",
        "\n",
        "# Map feature importances to original controllable features\n",
        "from collections import defaultdict\n",
        "importances_dict = defaultdict(float)\n",
        "for name, importance in zip(feature_names, feature_importances):\n",
        "    if name.startswith('num__'):\n",
        "        original_feature = name[5:]  # e.g., 'num__Hours_Studied' -> 'Hours_Studied'\n",
        "        importances_dict[original_feature] = importance\n",
        "    elif name.startswith('cat__Extracurricular_Activities_'):\n",
        "        importances_dict['Extracurricular_Activities'] += importance\n",
        "\n",
        "# Define controllable features\n",
        "controllable_numerical = ['Hours_Studied', 'Attendance', 'Sleep_Hours', 'Tutoring_Sessions', 'Physical_Activity']\n",
        "controllable_features = controllable_numerical + ['Extracurricular_Activities']\n",
        "\n",
        "# Sort features by importance and categorize\n",
        "sorted_importances = sorted(importances_dict.items(), key=lambda x: x[1], reverse=True)\n",
        "high_importance = [feat for feat, imp in sorted_importances[:2]]  # Top 2\n",
        "medium_importance = [feat for feat, imp in sorted_importances[2:4]]  # Next 2\n",
        "low_importance = [feat for feat, imp in sorted_importances[4:]]  # Bottom 2\n",
        "\n",
        "# Compute overall statistics for numerical features\n",
        "overall_means = df[controllable_numerical].mean()\n",
        "overall_stds = df[controllable_numerical].std()\n",
        "\n",
        "# Generate recommendations\n",
        "recommendations = {}\n",
        "for cluster in range(3):\n",
        "    cluster_data = df[df['cluster'] == cluster]\n",
        "    recs = []\n",
        "\n",
        "    # Numerical features\n",
        "    for feature in controllable_numerical:\n",
        "        cluster_mean = cluster_data[feature].mean()\n",
        "        overall_mean = overall_means[feature]\n",
        "        overall_std = overall_stds[feature]\n",
        "\n",
        "        # Determine importance label\n",
        "        if feature in high_importance:\n",
        "            importance_label = \"Highly important\"\n",
        "        elif feature in medium_importance:\n",
        "            importance_label = \"Important\"\n",
        "        else:\n",
        "            importance_label = \"Moderately important\"\n",
        "\n",
        "        # Tiered recommendations\n",
        "        if cluster_mean < overall_mean - 0.5 * overall_std:\n",
        "            recs.append(f\"{importance_label}: Urgently increase {feature} to at least {overall_mean:.1f}\")\n",
        "        elif cluster_mean < overall_mean:\n",
        "            recs.append(f\"{importance_label}: Consider increasing {feature} to at least {overall_mean:.1f}\")\n",
        "\n",
        "    # Extracurricular_Activities\n",
        "    percentage_no = (cluster_data['Extracurricular_Activities'] == 'No').mean() * 100\n",
        "    if 'Extracurricular_Activities' in high_importance:\n",
        "        importance_label = \"Highly important\"\n",
        "    elif 'Extracurricular_Activities' in medium_importance:\n",
        "        importance_label = \"Important\"\n",
        "    else:\n",
        "        importance_label = \"Moderately important\"\n",
        "\n",
        "    if percentage_no > 75:\n",
        "        recs.append(f\"{importance_label}: Strongly consider participating in extracurricular activities ({percentage_no:.1f}% do not participate)\")\n",
        "    elif percentage_no > 50:\n",
        "        recs.append(f\"{importance_label}: Consider participating in extracurricular activities ({percentage_no:.1f}% do not participate)\")\n",
        "\n",
        "    recommendations[cluster] = recs"
      ]
    },
    {
      "cell_type": "markdown",
      "metadata": {
        "id": "aej4cyytJcMO"
      },
      "source": [
        "# 10. Saving Clustering Models and Recommendations\n"
      ]
    },
    {
      "cell_type": "code",
      "execution_count": 11,
      "metadata": {
        "colab": {
          "base_uri": "https://localhost:8080/"
        },
        "id": "Z8zUDVT3JAur",
        "outputId": "155ad3c5-cc48-4afa-81a8-899cc0d66a68"
      },
      "outputs": [
        {
          "output_type": "stream",
          "name": "stdout",
          "text": [
            "Models and recommendations saved.\n"
          ]
        }
      ],
      "source": [
        "# Save models and recommendations\n",
        "joblib.dump(scaler, 'scaler.joblib')\n",
        "joblib.dump(kp, 'kprototypes.joblib')\n",
        "with open('recommendations.json', 'w') as f:\n",
        "    json.dump(recommendations, f)\n",
        "\n",
        "print(\"Models and recommendations saved.\")"
      ]
    },
    {
      "cell_type": "code",
      "execution_count": 12,
      "metadata": {
        "colab": {
          "base_uri": "https://localhost:8080/",
          "height": 17
        },
        "id": "wLSG5jrTHJjX",
        "outputId": "159be477-a933-44c1-d1a4-1add6a203ae1"
      },
      "outputs": [
        {
          "output_type": "display_data",
          "data": {
            "text/plain": [
              "<IPython.core.display.Javascript object>"
            ],
            "application/javascript": [
              "\n",
              "    async function download(id, filename, size) {\n",
              "      if (!google.colab.kernel.accessAllowed) {\n",
              "        return;\n",
              "      }\n",
              "      const div = document.createElement('div');\n",
              "      const label = document.createElement('label');\n",
              "      label.textContent = `Downloading \"${filename}\": `;\n",
              "      div.appendChild(label);\n",
              "      const progress = document.createElement('progress');\n",
              "      progress.max = size;\n",
              "      div.appendChild(progress);\n",
              "      document.body.appendChild(div);\n",
              "\n",
              "      const buffers = [];\n",
              "      let downloaded = 0;\n",
              "\n",
              "      const channel = await google.colab.kernel.comms.open(id);\n",
              "      // Send a message to notify the kernel that we're ready.\n",
              "      channel.send({})\n",
              "\n",
              "      for await (const message of channel.messages) {\n",
              "        // Send a message to notify the kernel that we're ready.\n",
              "        channel.send({})\n",
              "        if (message.buffers) {\n",
              "          for (const buffer of message.buffers) {\n",
              "            buffers.push(buffer);\n",
              "            downloaded += buffer.byteLength;\n",
              "            progress.value = downloaded;\n",
              "          }\n",
              "        }\n",
              "      }\n",
              "      const blob = new Blob(buffers, {type: 'application/binary'});\n",
              "      const a = document.createElement('a');\n",
              "      a.href = window.URL.createObjectURL(blob);\n",
              "      a.download = filename;\n",
              "      div.appendChild(a);\n",
              "      a.click();\n",
              "      div.remove();\n",
              "    }\n",
              "  "
            ]
          },
          "metadata": {}
        },
        {
          "output_type": "display_data",
          "data": {
            "text/plain": [
              "<IPython.core.display.Javascript object>"
            ],
            "application/javascript": [
              "download(\"download_a38a0459-03e7-47f0-ada5-914d247157bc\", \"regression_pipeline.joblib\", 32523946)"
            ]
          },
          "metadata": {}
        },
        {
          "output_type": "display_data",
          "data": {
            "text/plain": [
              "<IPython.core.display.Javascript object>"
            ],
            "application/javascript": [
              "\n",
              "    async function download(id, filename, size) {\n",
              "      if (!google.colab.kernel.accessAllowed) {\n",
              "        return;\n",
              "      }\n",
              "      const div = document.createElement('div');\n",
              "      const label = document.createElement('label');\n",
              "      label.textContent = `Downloading \"${filename}\": `;\n",
              "      div.appendChild(label);\n",
              "      const progress = document.createElement('progress');\n",
              "      progress.max = size;\n",
              "      div.appendChild(progress);\n",
              "      document.body.appendChild(div);\n",
              "\n",
              "      const buffers = [];\n",
              "      let downloaded = 0;\n",
              "\n",
              "      const channel = await google.colab.kernel.comms.open(id);\n",
              "      // Send a message to notify the kernel that we're ready.\n",
              "      channel.send({})\n",
              "\n",
              "      for await (const message of channel.messages) {\n",
              "        // Send a message to notify the kernel that we're ready.\n",
              "        channel.send({})\n",
              "        if (message.buffers) {\n",
              "          for (const buffer of message.buffers) {\n",
              "            buffers.push(buffer);\n",
              "            downloaded += buffer.byteLength;\n",
              "            progress.value = downloaded;\n",
              "          }\n",
              "        }\n",
              "      }\n",
              "      const blob = new Blob(buffers, {type: 'application/binary'});\n",
              "      const a = document.createElement('a');\n",
              "      a.href = window.URL.createObjectURL(blob);\n",
              "      a.download = filename;\n",
              "      div.appendChild(a);\n",
              "      a.click();\n",
              "      div.remove();\n",
              "    }\n",
              "  "
            ]
          },
          "metadata": {}
        },
        {
          "output_type": "display_data",
          "data": {
            "text/plain": [
              "<IPython.core.display.Javascript object>"
            ],
            "application/javascript": [
              "download(\"download_68ac71f9-4289-4fa3-b6dc-cf603e5ad262\", \"classification_pipeline.joblib\", 1643762)"
            ]
          },
          "metadata": {}
        },
        {
          "output_type": "display_data",
          "data": {
            "text/plain": [
              "<IPython.core.display.Javascript object>"
            ],
            "application/javascript": [
              "\n",
              "    async function download(id, filename, size) {\n",
              "      if (!google.colab.kernel.accessAllowed) {\n",
              "        return;\n",
              "      }\n",
              "      const div = document.createElement('div');\n",
              "      const label = document.createElement('label');\n",
              "      label.textContent = `Downloading \"${filename}\": `;\n",
              "      div.appendChild(label);\n",
              "      const progress = document.createElement('progress');\n",
              "      progress.max = size;\n",
              "      div.appendChild(progress);\n",
              "      document.body.appendChild(div);\n",
              "\n",
              "      const buffers = [];\n",
              "      let downloaded = 0;\n",
              "\n",
              "      const channel = await google.colab.kernel.comms.open(id);\n",
              "      // Send a message to notify the kernel that we're ready.\n",
              "      channel.send({})\n",
              "\n",
              "      for await (const message of channel.messages) {\n",
              "        // Send a message to notify the kernel that we're ready.\n",
              "        channel.send({})\n",
              "        if (message.buffers) {\n",
              "          for (const buffer of message.buffers) {\n",
              "            buffers.push(buffer);\n",
              "            downloaded += buffer.byteLength;\n",
              "            progress.value = downloaded;\n",
              "          }\n",
              "        }\n",
              "      }\n",
              "      const blob = new Blob(buffers, {type: 'application/binary'});\n",
              "      const a = document.createElement('a');\n",
              "      a.href = window.URL.createObjectURL(blob);\n",
              "      a.download = filename;\n",
              "      div.appendChild(a);\n",
              "      a.click();\n",
              "      div.remove();\n",
              "    }\n",
              "  "
            ]
          },
          "metadata": {}
        },
        {
          "output_type": "display_data",
          "data": {
            "text/plain": [
              "<IPython.core.display.Javascript object>"
            ],
            "application/javascript": [
              "download(\"download_f7a55f09-047c-41ae-9f6a-ed6363af000f\", \"scaler.joblib\", 1175)"
            ]
          },
          "metadata": {}
        },
        {
          "output_type": "display_data",
          "data": {
            "text/plain": [
              "<IPython.core.display.Javascript object>"
            ],
            "application/javascript": [
              "\n",
              "    async function download(id, filename, size) {\n",
              "      if (!google.colab.kernel.accessAllowed) {\n",
              "        return;\n",
              "      }\n",
              "      const div = document.createElement('div');\n",
              "      const label = document.createElement('label');\n",
              "      label.textContent = `Downloading \"${filename}\": `;\n",
              "      div.appendChild(label);\n",
              "      const progress = document.createElement('progress');\n",
              "      progress.max = size;\n",
              "      div.appendChild(progress);\n",
              "      document.body.appendChild(div);\n",
              "\n",
              "      const buffers = [];\n",
              "      let downloaded = 0;\n",
              "\n",
              "      const channel = await google.colab.kernel.comms.open(id);\n",
              "      // Send a message to notify the kernel that we're ready.\n",
              "      channel.send({})\n",
              "\n",
              "      for await (const message of channel.messages) {\n",
              "        // Send a message to notify the kernel that we're ready.\n",
              "        channel.send({})\n",
              "        if (message.buffers) {\n",
              "          for (const buffer of message.buffers) {\n",
              "            buffers.push(buffer);\n",
              "            downloaded += buffer.byteLength;\n",
              "            progress.value = downloaded;\n",
              "          }\n",
              "        }\n",
              "      }\n",
              "      const blob = new Blob(buffers, {type: 'application/binary'});\n",
              "      const a = document.createElement('a');\n",
              "      a.href = window.URL.createObjectURL(blob);\n",
              "      a.download = filename;\n",
              "      div.appendChild(a);\n",
              "      a.click();\n",
              "      div.remove();\n",
              "    }\n",
              "  "
            ]
          },
          "metadata": {}
        },
        {
          "output_type": "display_data",
          "data": {
            "text/plain": [
              "<IPython.core.display.Javascript object>"
            ],
            "application/javascript": [
              "download(\"download_db7edbdc-4b8d-4b14-b1bc-92c6cb25f2f5\", \"kprototypes.joblib\", 15960)"
            ]
          },
          "metadata": {}
        },
        {
          "output_type": "display_data",
          "data": {
            "text/plain": [
              "<IPython.core.display.Javascript object>"
            ],
            "application/javascript": [
              "\n",
              "    async function download(id, filename, size) {\n",
              "      if (!google.colab.kernel.accessAllowed) {\n",
              "        return;\n",
              "      }\n",
              "      const div = document.createElement('div');\n",
              "      const label = document.createElement('label');\n",
              "      label.textContent = `Downloading \"${filename}\": `;\n",
              "      div.appendChild(label);\n",
              "      const progress = document.createElement('progress');\n",
              "      progress.max = size;\n",
              "      div.appendChild(progress);\n",
              "      document.body.appendChild(div);\n",
              "\n",
              "      const buffers = [];\n",
              "      let downloaded = 0;\n",
              "\n",
              "      const channel = await google.colab.kernel.comms.open(id);\n",
              "      // Send a message to notify the kernel that we're ready.\n",
              "      channel.send({})\n",
              "\n",
              "      for await (const message of channel.messages) {\n",
              "        // Send a message to notify the kernel that we're ready.\n",
              "        channel.send({})\n",
              "        if (message.buffers) {\n",
              "          for (const buffer of message.buffers) {\n",
              "            buffers.push(buffer);\n",
              "            downloaded += buffer.byteLength;\n",
              "            progress.value = downloaded;\n",
              "          }\n",
              "        }\n",
              "      }\n",
              "      const blob = new Blob(buffers, {type: 'application/binary'});\n",
              "      const a = document.createElement('a');\n",
              "      a.href = window.URL.createObjectURL(blob);\n",
              "      a.download = filename;\n",
              "      div.appendChild(a);\n",
              "      a.click();\n",
              "      div.remove();\n",
              "    }\n",
              "  "
            ]
          },
          "metadata": {}
        },
        {
          "output_type": "display_data",
          "data": {
            "text/plain": [
              "<IPython.core.display.Javascript object>"
            ],
            "application/javascript": [
              "download(\"download_d238d42d-8e9d-4ee8-a397-b1ae4dea41ff\", \"recommendations.json\", 520)"
            ]
          },
          "metadata": {}
        }
      ],
      "source": [
        "from google.colab import files\n",
        "files.download('regression_pipeline.joblib')\n",
        "files.download('classification_pipeline.joblib')\n",
        "files.download('scaler.joblib')\n",
        "files.download('kprototypes.joblib')\n",
        "files.download('recommendations.json')"
      ]
    },
    {
      "cell_type": "code",
      "execution_count": 13,
      "metadata": {
        "colab": {
          "base_uri": "https://localhost:8080/"
        },
        "id": "LFSvtzQ7IQiD",
        "outputId": "faff901a-0354-45cd-c849-0ad993f4d25c"
      },
      "outputs": [
        {
          "output_type": "stream",
          "name": "stdout",
          "text": [
            "Drive already mounted at /content/drive; to attempt to forcibly remount, call drive.mount(\"/content/drive\", force_remount=True).\n"
          ]
        }
      ],
      "source": [
        "from google.colab import drive\n",
        "drive.mount('/content/drive')\n",
        "!cp regression_pipeline.joblib /content/drive/MyDrive/\n",
        "!cp classification_pipeline.joblib /content/drive/MyDrive/\n",
        "!cp scaler.joblib /content/drive/MyDrive/\n",
        "!cp kprototypes.joblib /content/drive/MyDrive/\n",
        "!cp recommendations.json /content/drive/MyDrive/"
      ]
    },
    {
      "cell_type": "markdown",
      "metadata": {
        "id": "mG_eRKFDKPpn"
      },
      "source": [
        "# 1. Importing Required Libraries\n"
      ]
    },
    {
      "cell_type": "code",
      "execution_count": 14,
      "metadata": {
        "id": "qTouSibmKNpx"
      },
      "outputs": [],
      "source": [
        "from fastapi import FastAPI\n",
        "import pandas as pd\n",
        "import joblib\n",
        "import json\n",
        "from pydantic import BaseModel\n",
        "import nest_asyncio\n",
        "import uvicorn\n",
        "from IPython.display import display"
      ]
    },
    {
      "cell_type": "markdown",
      "metadata": {
        "id": "qdhESmhDKU1I"
      },
      "source": [
        "# 2. Initializing the FastAPI App\n"
      ]
    },
    {
      "cell_type": "code",
      "execution_count": 15,
      "metadata": {
        "id": "OwGEOx5eKNmj"
      },
      "outputs": [],
      "source": [
        "app = FastAPI()"
      ]
    },
    {
      "cell_type": "markdown",
      "metadata": {
        "id": "-24e82cyKZz_"
      },
      "source": [
        "# 3. Loading Models and Recommendations\n"
      ]
    },
    {
      "cell_type": "code",
      "execution_count": 16,
      "metadata": {
        "id": "zj0tBC5EKNkL"
      },
      "outputs": [],
      "source": [
        "# Load models and recommendations\n",
        "regression_pipeline = joblib.load('regression_pipeline.joblib')\n",
        "classification_pipeline = joblib.load('classification_pipeline.joblib')\n",
        "scaler = joblib.load('scaler.joblib')\n",
        "kp = joblib.load('kprototypes.joblib')\n",
        "with open('recommendations.json', 'r') as f:\n",
        "    recommendations = json.load(f)"
      ]
    },
    {
      "cell_type": "markdown",
      "metadata": {
        "id": "GMZaMHBuKf9-"
      },
      "source": [
        "# 4. Defining Feature Columns\n"
      ]
    },
    {
      "cell_type": "code",
      "execution_count": 17,
      "metadata": {
        "id": "ZM7GFfiDKNhq"
      },
      "outputs": [],
      "source": [
        "# Define feature columns\n",
        "numerical_cols = ['Hours_Studied', 'Attendance', 'Sleep_Hours', 'Previous_Scores', 'Tutoring_Sessions', 'Physical_Activity']\n",
        "categorical_cols = ['Parental_Involvement', 'Access_to_Resources', 'Extracurricular_Activities', 'Motivation_Level', 'Internet_Access', 'Family_Income', 'Teacher_Quality', 'School_Type', 'Peer_Influence', 'Learning_Disabilities', 'Parental_Education_Level', 'Distance_from_Home', 'Gender']\n",
        "columns = numerical_cols + categorical_cols"
      ]
    },
    {
      "cell_type": "markdown",
      "metadata": {
        "id": "fCxNkK01KkEv"
      },
      "source": [
        "# 5. Defining Input Data Structure\n"
      ]
    },
    {
      "cell_type": "code",
      "execution_count": 18,
      "metadata": {
        "id": "vrXFZQNAKNfF"
      },
      "outputs": [],
      "source": [
        "# Define input data structure\n",
        "class StudentData(BaseModel):\n",
        "    Hours_Studied: float\n",
        "    Attendance: float\n",
        "    Parental_Involvement: str\n",
        "    Access_to_Resources: str\n",
        "    Extracurricular_Activities: str\n",
        "    Sleep_Hours: float\n",
        "    Previous_Scores: float\n",
        "    Motivation_Level: str\n",
        "    Internet_Access: str\n",
        "    Tutoring_Sessions: float\n",
        "    Family_Income: str\n",
        "    Teacher_Quality: str\n",
        "    School_Type: str\n",
        "    Peer_Influence: str\n",
        "    Physical_Activity: float\n",
        "    Learning_Disabilities: str\n",
        "    Parental_Education_Level: str\n",
        "    Distance_from_Home: str\n",
        "    Gender: str"
      ]
    },
    {
      "cell_type": "markdown",
      "metadata": {
        "id": "UTSyftpGKoy-"
      },
      "source": [
        "# 6. Creating the Prediction Endpoint\n"
      ]
    },
    {
      "cell_type": "code",
      "execution_count": 19,
      "metadata": {
        "id": "m5cKCCyAKNco"
      },
      "outputs": [],
      "source": [
        "@app.post(\"/predict\")\n",
        "def predict(data: StudentData):\n",
        "    # Convert input data to DataFrame\n",
        "    X_new = pd.DataFrame([data.dict()], columns=columns)\n",
        "\n",
        "    # Predict exam score\n",
        "    predicted_score = regression_pipeline.predict(X_new)[0]\n",
        "\n",
        "    # Predict pass probability\n",
        "    pass_probability = classification_pipeline.predict_proba(X_new)[0][1]\n",
        "\n",
        "    # Scale numerical features for clustering\n",
        "    X_new_scaled = X_new.copy()\n",
        "    X_new_scaled[numerical_cols] = scaler.transform(X_new[numerical_cols])\n",
        "\n",
        "    # Define categorical indices for clustering\n",
        "    categorical_indices = list(range(len(numerical_cols), len(columns)))\n",
        "\n",
        "    # Predict cluster\n",
        "    cluster = kp.predict(X_new_scaled, categorical=categorical_indices)[0]\n",
        "\n",
        "    # Get recommendations for the cluster\n",
        "    recs = recommendations[str(cluster)]\n",
        "\n",
        "    # Return results\n",
        "    return {\n",
        "        \"predicted_score\": predicted_score,\n",
        "        \"pass_probability\": pass_probability,\n",
        "        \"cluster\": int(cluster),\n",
        "        \"recommendations\": recs\n",
        "    }"
      ]
    },
    {
      "cell_type": "markdown",
      "metadata": {
        "id": "KT6NLrQCKzOH"
      },
      "source": [
        "# 7. Running the FastAPI  ngrok"
      ]
    },
    {
      "cell_type": "code",
      "execution_count": 20,
      "metadata": {
        "colab": {
          "base_uri": "https://localhost:8080/"
        },
        "id": "oHuYODWZyxEB",
        "outputId": "a797b0c4-cafa-4be2-bce5-490f3eb88556"
      },
      "outputs": [
        {
          "output_type": "stream",
          "name": "stderr",
          "text": [
            "INFO:     Started server process [229]\n",
            "INFO:     Waiting for application startup.\n",
            "INFO:     Application startup complete.\n",
            "INFO:     Uvicorn running on http://0.0.0.0:8000 (Press CTRL+C to quit)\n"
          ]
        }
      ],
      "source": [
        "import threading\n",
        "import time\n",
        "def run_server():\n",
        "    uvicorn.run(app, host=\"0.0.0.0\", port=8000, log_level=\"info\")\n",
        "\n",
        "thread = threading.Thread(target=run_server)\n",
        "thread.start()\n",
        "\n",
        "# Wait for server to start\n",
        "time.sleep(5)"
      ]
    },
    {
      "source": [
        "!pip install pyngrok"
      ],
      "cell_type": "code",
      "metadata": {
        "colab": {
          "base_uri": "https://localhost:8080/"
        },
        "id": "YGP7Th8ZNQvh",
        "outputId": "f3ea5da7-93fb-4b35-ac74-01644949f82a"
      },
      "execution_count": 27,
      "outputs": [
        {
          "output_type": "stream",
          "name": "stdout",
          "text": [
            "Collecting pyngrok\n",
            "  Downloading pyngrok-7.2.3-py3-none-any.whl.metadata (8.7 kB)\n",
            "Requirement already satisfied: PyYAML>=5.1 in /usr/local/lib/python3.11/dist-packages (from pyngrok) (6.0.2)\n",
            "Downloading pyngrok-7.2.3-py3-none-any.whl (23 kB)\n",
            "Installing collected packages: pyngrok\n",
            "Successfully installed pyngrok-7.2.3\n"
          ]
        }
      ]
    },
    {
      "cell_type": "code",
      "source": [
        "import uvicorn\n",
        "import asyncio\n",
        "from pyngrok import ngrok\n",
        "\n",
        "# Set up the server configuration\n",
        "config = uvicorn.Config(app, host=\"0.0.0.0\", port=8001)\n",
        "server = uvicorn.Server(config)\n",
        "\n",
        "# Get the current event loop\n",
        "loop = asyncio.get_event_loop()\n",
        "\n",
        "# Start the server in the background as a task\n",
        "task = loop.create_task(server.serve())\n",
        "\n",
        "# Set up Ngrok tunnel\n",
        "ngrok.set_auth_token(\"2tiTnsEvZS0QaDYClcDP7v7eSNM_4UuDWB19FjSCW92mMp4gE\")  # Your Ngrok auth token\n",
        "public_url = ngrok.connect(8001).public_url\n",
        "print(f\"Public API URL: {public_url}\")"
      ],
      "metadata": {
        "colab": {
          "base_uri": "https://localhost:8080/"
        },
        "id": "TdcKP6F1NOcI",
        "outputId": "7b8e69f3-6ae3-43f5-b35d-7d792cc34239"
      },
      "execution_count": 28,
      "outputs": [
        {
          "output_type": "stream",
          "name": "stdout",
          "text": [
            "Downloading ngrok ...\r"
          ]
        },
        {
          "output_type": "stream",
          "name": "stderr",
          "text": [
            "/usr/lib/python3.11/urllib/request.py:444: RuntimeWarning: coroutine 'Server.serve' was never awaited\n",
            "  for meth in dir(handler):\n",
            "RuntimeWarning: Enable tracemalloc to get the object allocation traceback\n"
          ]
        },
        {
          "output_type": "stream",
          "name": "stdout",
          "text": [
            "Public API URL: https://d4dc-34-142-216-106.ngrok-free.app\n"
          ]
        }
      ]
    },
    {
      "cell_type": "code",
      "execution_count": 29,
      "metadata": {
        "colab": {
          "base_uri": "https://localhost:8080/"
        },
        "id": "qLMuIYdtxjjv",
        "outputId": "f7a4985b-fcae-4ee6-8ccb-d622316bb5f5"
      },
      "outputs": [
        {
          "output_type": "stream",
          "name": "stdout",
          "text": [
            "Request timed out - Server may be slow or unreachable.\n"
          ]
        }
      ],
      "source": [
        "\n",
        "\n",
        "import requests\n",
        "import time\n",
        "\n",
        "# Replace with your actual Ngrok URL\n",
        "public_url = public_url\n",
        "\n",
        "data = {\n",
        "    \"Hours_Studied\": 5.0,\n",
        "    \"Attendance\": 90.0,\n",
        "    \"Parental_Involvement\": \"High\",\n",
        "    \"Access_to_Resources\": \"Yes\",\n",
        "    \"Extracurricular_Activities\": \"Yes\",\n",
        "    \"Sleep_Hours\": 7.0,\n",
        "    \"Previous_Scores\": 85.0,\n",
        "    \"Motivation_Level\": \"High\",\n",
        "    \"Internet_Access\": \"Yes\",\n",
        "    \"Tutoring_Sessions\": 2.0,\n",
        "    \"Family_Income\": \"Medium\",\n",
        "    \"Teacher_Quality\": \"Good\",\n",
        "    \"School_Type\": \"Public\",\n",
        "    \"Peer_Influence\": \"Positive\",\n",
        "    \"Physical_Activity\": 3.0,\n",
        "    \"Learning_Disabilities\": \"No\",\n",
        "    \"Parental_Education_Level\": \"Graduate\",\n",
        "    \"Distance_from_Home\": \"Near\",\n",
        "    \"Gender\": \"Male\"\n",
        "}\n",
        "\n",
        "# Wait briefly to ensure the server is up\n",
        "time.sleep(2)\n",
        "\n",
        "try:\n",
        "    # Send POST request\n",
        "    response = requests.post(f\"{public_url}/predict\", json=data, timeout=10)\n",
        "    response.raise_for_status()  # Raise an error for bad HTTP status codes\n",
        "    print(\"API Response:\", response.json())\n",
        "except requests.exceptions.ConnectionError as e:\n",
        "    print(f\"Connection Error: {e} - Check if the server is running on port 8000 and Ngrok tunnel is active.\")\n",
        "except requests.exceptions.Timeout:\n",
        "    print(\"Request timed out - Server may be slow or unreachable.\")\n",
        "except requests.exceptions.HTTPError as e:\n",
        "    print(f\"HTTP Error: {e} - Response: {response.text}\")\n",
        "except requests.exceptions.JSONDecodeError as e:\n",
        "    print(f\"JSON Decode Error: {e} - Raw Response: {response.text}\")\n",
        "except Exception as e:\n",
        "    print(f\"Unexpected Error: {e}\")"
      ]
    },
    {
      "cell_type": "code",
      "execution_count": null,
      "metadata": {
        "id": "dWY3zhc6tKK0"
      },
      "outputs": [],
      "source": [
        "# https://grok.com/share/bGVnYWN5_e12ed583-8ef7-4c49-881c-62f667048997"
      ]
    }
  ],
  "metadata": {
    "accelerator": "GPU",
    "colab": {
      "gpuType": "T4",
      "provenance": []
    },
    "kernelspec": {
      "display_name": "Python 3",
      "name": "python3"
    },
    "language_info": {
      "name": "python"
    }
  },
  "nbformat": 4,
  "nbformat_minor": 0
}